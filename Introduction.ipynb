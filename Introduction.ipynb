{
 "cells": [
  {
   "cell_type": "markdown",
   "id": "d3174a76-ea59-4eae-9246-d065659bf8a4",
   "metadata": {},
   "source": [
    "<img src=\"https://cdn.dribbble.com/userupload/15953384/file/original-4c41be4c2e6b0649d8a81b1564df0957.jpg\" width=200></center><br>Jenis Cell di <b>Jupyter Notebooks</b> ada 2\n",
    "<ol>\n",
    "    <li>Mark Down (M)</li>\n",
    "    <li>Code (Y)</li>\n",
    "</ol>\n",
    "<hr>"
   ]
  },
  {
   "cell_type": "markdown",
   "id": "a953829f-1143-4b43-96a2-c01ce6adbcbc",
   "metadata": {},
   "source": [
    "Cara menambahkan Cell ada 2:\n",
    "<ul>\n",
    "    <li>Above (A)</li>\n",
    "    <li>Below (B)</li>\n",
    "</ul>\n",
    "\n",
    "<table>\n",
    "    <tr>\n",
    "        <th>Perintah</th>\n",
    "        <th>Keterangan</th >\n",
    "    </tr>\n",
    "    <tr>\n",
    "        <td>ctrl + enter</td>\n",
    "        <td>Running dan fokus di cell</td>\n",
    "    </tr>\n",
    "    <tr>\n",
    "        <td>Shift + enter</td>\n",
    "        <td>Running dan fokus di cell berikutnya</td>\n",
    "    </tr>\n",
    "</table>"
   ]
  },
  {
   "cell_type": "code",
   "execution_count": 6,
   "id": "b08b6160-d8f5-4c43-83be-b2b8797beb2b",
   "metadata": {},
   "outputs": [
    {
     "name": "stdout",
     "output_type": "stream",
     "text": [
      "Python is very easy\n",
      "5\n",
      "15\n",
      "10\n"
     ]
    },
    {
     "data": {
      "text/plain": [
       "105"
      ]
     },
     "execution_count": 6,
     "metadata": {},
     "output_type": "execute_result"
    }
   ],
   "source": [
    "print(\"Python is very easy\")\n",
    "data = 5\n",
    "data2 = \"10\"\n",
    "print(data)\n",
    "print(data + int(data2))\n",
    "print (data2)\n",
    "data2\n",
    "data + 100"
   ]
  },
  {
   "cell_type": "code",
   "execution_count": 1,
   "id": "50860419-dcb4-4719-9973-d326d33a9275",
   "metadata": {},
   "outputs": [
    {
     "name": "stdout",
     "output_type": "stream",
     "text": [
      "Nama Universitas: ABC\n",
      "  Fakultas: Teknik, Jumlah Dosen: 316, Jumlah Mahasiswa: 1098\n",
      "    Dosen: Arif, NIP: 1679999, Golongan: II\n",
      "    Mahasiswa: Munif, No. Mhs: 10189, Jurusan: Elektro\n",
      "      Mata Kuliah: Fisika Dasar, Kode: KID627187, SKS: 2\n"
     ]
    }
   ],
   "source": [
    "class Universitas:  \n",
    "    def __init__(self, nama, fakultas_list):  \n",
    "        self.nama = nama  \n",
    "        self.fakultas_list = fakultas_list  \n",
    "\n",
    "\n",
    "class Fakultas:  \n",
    "    def __init__(self, nama, jumlah_dosen, jumlah_mhs, jumlah_jurusan):  \n",
    "        self.nama = nama  \n",
    "        self.jumlah_dosen = jumlah_dosen  \n",
    "        self.jumlah_mhs = jumlah_mhs  \n",
    "        self.jumlah_jurusan = jumlah_jurusan  \n",
    "        self.dosen_list = []  \n",
    "        self.mahasiswa_list = []  \n",
    "\n",
    "\n",
    "class Dosen:  \n",
    "    def __init__(self, nip, nama, golongan):  \n",
    "        self.nip = nip  \n",
    "        self.nama = nama  \n",
    "        self.golongan = golongan  \n",
    "\n",
    "\n",
    "class Mahasiswa:  \n",
    "    def __init__(self, no_mhs, nama, jurusan):  \n",
    "        self.no_mhs = no_mhs  \n",
    "        self.nama = nama  \n",
    "        self.jurusan = jurusan  \n",
    "        self.mata_kuliah_list = []  \n",
    "\n",
    "\n",
    "class MataKuliah:  \n",
    "    def __init__(self, kode_mk, nama_mk, jumlah_sks):  \n",
    "        self.kode_mk = kode_mk  \n",
    "        self.nama_mk = nama_mk  \n",
    "        self.jumlah_sks = jumlah_sks  \n",
    "\n",
    "\n",
    "# Contoh penggunaan  \n",
    "fakultas_teknik = Fakultas(\"Teknik\", 316, 1098, 8)  \n",
    "\n",
    "dosen_1 = Dosen(\"1679999\", \"Arif\", \"II\")  \n",
    "fakultas_teknik.dosen_list.append(dosen_1)  \n",
    "\n",
    "mahasiswa_1 = Mahasiswa(\"10189\", \"Munif\", \"Elektro\")  \n",
    "fakultas_teknik.mahasiswa_list.append(mahasiswa_1)  \n",
    "\n",
    "mata_kuliah_1 = MataKuliah(\"KID627187\", \"Fisika Dasar\", 2)  \n",
    "mahasiswa_1.mata_kuliah_list.append(mata_kuliah_1)  \n",
    "\n",
    "universitas = Universitas(\"ABC\", [fakultas_teknik])  \n",
    "\n",
    "# Menampilkan data  \n",
    "print(f\"Nama Universitas: {universitas.nama}\")  \n",
    "for fakultas in universitas.fakultas_list:  \n",
    "    print(f\"  Fakultas: {fakultas.nama}, Jumlah Dosen: {fakultas.jumlah_dosen}, Jumlah Mahasiswa: {fakultas.jumlah_mhs}\")  \n",
    "\n",
    "    for dosen in fakultas.dosen_list:  \n",
    "        print(f\"    Dosen: {dosen.nama}, NIP: {dosen.nip}, Golongan: {dosen.golongan}\")  \n",
    "\n",
    "    for mahasiswa in fakultas.mahasiswa_list:  \n",
    "        print(f\"    Mahasiswa: {mahasiswa.nama}, No. Mhs: {mahasiswa.no_mhs}, Jurusan: {mahasiswa.jurusan}\")  \n",
    "\n",
    "        for mata_kuliah in mahasiswa.mata_kuliah_list:  \n",
    "            print(f\"      Mata Kuliah: {mata_kuliah.nama_mk}, Kode: {mata_kuliah.kode_mk}, SKS: {mata_kuliah.jumlah_sks}\")"
   ]
  },
  {
   "cell_type": "code",
   "execution_count": null,
   "id": "53e9ffdb-6efe-4ae6-937b-635c917c8126",
   "metadata": {},
   "outputs": [],
   "source": []
  }
 ],
 "metadata": {
  "kernelspec": {
   "display_name": "Python 3 (ipykernel)",
   "language": "python",
   "name": "python3"
  },
  "language_info": {
   "codemirror_mode": {
    "name": "ipython",
    "version": 3
   },
   "file_extension": ".py",
   "mimetype": "text/x-python",
   "name": "python",
   "nbconvert_exporter": "python",
   "pygments_lexer": "ipython3",
   "version": "3.12.9"
  }
 },
 "nbformat": 4,
 "nbformat_minor": 5
}
