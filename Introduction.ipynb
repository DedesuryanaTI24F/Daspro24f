{
 "cells": [
  {
   "cell_type": "markdown",
   "id": "d3174a76-ea59-4eae-9246-d065659bf8a4",
   "metadata": {},
   "source": [
    "<img src=\"https://cdn.dribbble.com/userupload/15953384/file/original-4c41be4c2e6b0649d8a81b1564df0957.jpg\" width=200></center><br>Jenis Cell di <b>Jupyter Notebooks</b> ada 2\n",
    "<ol>\n",
    "    <li>Mark Down (M)</li>\n",
    "    <li>Code (Y)</li>\n",
    "</ol>\n",
    "<hr>"
   ]
  },
  {
   "cell_type": "markdown",
   "id": "a953829f-1143-4b43-96a2-c01ce6adbcbc",
   "metadata": {},
   "source": [
    "Cara menambahkan Cell ada 2:\n",
    "<ul>\n",
    "    <li>Above (A)</li>\n",
    "    <li>Below (B)</li>\n",
    "</ul>\n",
    "\n",
    "<table>\n",
    "    <tr>\n",
    "        <th>Perintah</th>\n",
    "        <th>Keterangan</th >\n",
    "    </tr>\n",
    "    <tr>\n",
    "        <td>ctrl + enter</td>\n",
    "        <td>Running dan fokus di cell</td>\n",
    "    </tr>\n",
    "    <tr>\n",
    "        <td>Shift + enter</td>\n",
    "        <td>Running dan fokus di cell berikutnya</td>\n",
    "    </tr>\n",
    "</table>"
   ]
  },
  {
   "cell_type": "code",
   "execution_count": 6,
   "id": "b08b6160-d8f5-4c43-83be-b2b8797beb2b",
   "metadata": {},
   "outputs": [
    {
     "name": "stdout",
     "output_type": "stream",
     "text": [
      "Python is very easy\n",
      "5\n",
      "15\n",
      "10\n"
     ]
    },
    {
     "data": {
      "text/plain": [
       "105"
      ]
     },
     "execution_count": 6,
     "metadata": {},
     "output_type": "execute_result"
    }
   ],
   "source": [
    "print(\"Python is very easy\")\n",
    "data = 5\n",
    "data2 = \"10\"\n",
    "print(data)\n",
    "print(data + int(data2))\n",
    "print (data2)\n",
    "data2\n",
    "data + 100"
   ]
  },
  {
   "cell_type": "code",
   "execution_count": null,
   "id": "50860419-dcb4-4719-9973-d326d33a9275",
   "metadata": {},
   "outputs": [],
   "source": []
  },
  {
   "cell_type": "code",
   "execution_count": null,
   "id": "53e9ffdb-6efe-4ae6-937b-635c917c8126",
   "metadata": {},
   "outputs": [],
   "source": []
  }
 ],
 "metadata": {
  "kernelspec": {
   "display_name": "Python 3 (ipykernel)",
   "language": "python",
   "name": "python3"
  },
  "language_info": {
   "codemirror_mode": {
    "name": "ipython",
    "version": 3
   },
   "file_extension": ".py",
   "mimetype": "text/x-python",
   "name": "python",
   "nbconvert_exporter": "python",
   "pygments_lexer": "ipython3",
   "version": "3.12.9"
  }
 },
 "nbformat": 4,
 "nbformat_minor": 5
}
